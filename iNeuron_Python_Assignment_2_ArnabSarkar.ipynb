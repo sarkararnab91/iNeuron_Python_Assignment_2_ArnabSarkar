{
  "nbformat": 4,
  "nbformat_minor": 0,
  "metadata": {
    "colab": {
      "name": "iNeuron_Python_Assignment_2_ArnabSarkar.ipynb",
      "provenance": [],
      "collapsed_sections": []
    },
    "kernelspec": {
      "name": "python3",
      "display_name": "Python 3"
    }
  },
  "cells": [
    {
      "cell_type": "markdown",
      "metadata": {
        "id": "0FLZkvZuT5-9"
      },
      "source": [
        "Q-1: pattern using nested for loop in Python."
      ]
    },
    {
      "cell_type": "code",
      "metadata": {
        "id": "nvuDKBMmdmUu",
        "outputId": "3fa7d41f-50d6-4b3b-ed84-c050ee70d99a",
        "colab": {
          "base_uri": "https://localhost:8080/",
          "height": 133
        }
      },
      "source": [
        "j=0\n",
        "initial=1\n",
        "end=4\n",
        "step=1\n",
        "while j<2:\n",
        "  for i in range(initial,end,step):\n",
        "    print('*'*i)\n",
        "  j+=1\n",
        "  end=0\n",
        "  initial=4\n",
        "  step=-1\n"
      ],
      "execution_count": 8,
      "outputs": [
        {
          "output_type": "stream",
          "text": [
            "*\n",
            "**\n",
            "***\n",
            "****\n",
            "***\n",
            "**\n",
            "*\n"
          ],
          "name": "stdout"
        }
      ]
    },
    {
      "cell_type": "markdown",
      "metadata": {
        "id": "NOd0KTnOT8O3"
      },
      "source": [
        "Q-2: Reverse user input"
      ]
    },
    {
      "cell_type": "code",
      "metadata": {
        "id": "lwxaM98ST9D3",
        "outputId": "99be562d-9d7e-46ca-db78-70c31c70a2da",
        "colab": {
          "base_uri": "https://localhost:8080/",
          "height": 50
        }
      },
      "source": [
        "u_inp=input('please put a word  ')\n",
        "str_op=''\n",
        "for i in range(len(u_inp)-1,-1,-1):\n",
        "  str_op+=u_inp[i]\n",
        "\n",
        "print(str_op)"
      ],
      "execution_count": 14,
      "outputs": [
        {
          "output_type": "stream",
          "text": [
            "please put a word  ineuron\n",
            "norueni\n"
          ],
          "name": "stdout"
        }
      ]
    }
  ]
}